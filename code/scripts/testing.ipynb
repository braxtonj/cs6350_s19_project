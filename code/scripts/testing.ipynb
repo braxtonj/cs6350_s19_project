{
 "cells": [
  {
   "cell_type": "markdown",
   "metadata": {},
   "source": [
    "# Testing \n",
    "\n",
    "---"
   ]
  },
  {
   "cell_type": "code",
   "execution_count": 31,
   "metadata": {},
   "outputs": [],
   "source": [
    "import numpy as np\n",
    "from scipy.stats import truncnorm\n",
    "import matplotlib.pyplot as plt"
   ]
  },
  {
   "cell_type": "code",
   "execution_count": 2,
   "metadata": {},
   "outputs": [],
   "source": [
    "# Dimension Limits\n",
    "min_h, max_h = [0.25, 1]\n",
    "min_w, max_w = [0.25, 1]\n",
    "min_l, max_l = [0.25, 1]"
   ]
  },
  {
   "cell_type": "code",
   "execution_count": 40,
   "metadata": {},
   "outputs": [
    {
     "data": {
      "text/plain": [
       "0.625"
      ]
     },
     "execution_count": 40,
     "metadata": {},
     "output_type": "execute_result"
    }
   ],
   "source": [
    "np.mean([min_h, max_h])"
   ]
  },
  {
   "cell_type": "code",
   "execution_count": 42,
   "metadata": {},
   "outputs": [],
   "source": [
    "mean_h = np.mean([min_h, max_h])\n",
    "mean_w = np.mean([min_w, max_w])\n",
    "mean_l = np.mean([min_l, max_l])"
   ]
  },
  {
   "cell_type": "code",
   "execution_count": 50,
   "metadata": {},
   "outputs": [],
   "source": [
    "sigma = 0.3"
   ]
  },
  {
   "cell_type": "code",
   "execution_count": null,
   "metadata": {},
   "outputs": [],
   "source": []
  },
  {
   "cell_type": "code",
   "execution_count": 66,
   "metadata": {},
   "outputs": [],
   "source": [
    "val_1 = np.round(truncnorm((min_h-mean_h)/sigma, (max_h-mean_h)/sigma, loc=mean_h, scale=sigma).rvs(1), decimals=3)\n",
    "val_2 = np.round(truncnorm((min_h-mean_h)/sigma, (max_h-mean_h)/sigma, loc=mean_h, scale=sigma).rvs(1), decimals=3)\n",
    "val_3 = np.round(truncnorm((min_h-mean_h)/sigma, (max_h-mean_h)/sigma, loc=mean_h, scale=sigma).rvs(1), decimals=3)"
   ]
  },
  {
   "cell_type": "code",
   "execution_count": 67,
   "metadata": {},
   "outputs": [
    {
     "data": {
      "text/plain": [
       "(array([0.49]), array([0.361]), array([0.325]))"
      ]
     },
     "execution_count": 67,
     "metadata": {},
     "output_type": "execute_result"
    }
   ],
   "source": [
    "val_1, val_2, val_3"
   ]
  },
  {
   "cell_type": "code",
   "execution_count": 72,
   "metadata": {},
   "outputs": [],
   "source": [
    "xyz = str(val_1[0]) + ' ' + str(val_2[0]) + ' ' + str(val_3[0])"
   ]
  },
  {
   "cell_type": "code",
   "execution_count": 73,
   "metadata": {},
   "outputs": [
    {
     "data": {
      "text/plain": [
       "'0.49 0.361 0.325'"
      ]
     },
     "execution_count": 73,
     "metadata": {},
     "output_type": "execute_result"
    }
   ],
   "source": [
    "xyz"
   ]
  },
  {
   "cell_type": "code",
   "execution_count": null,
   "metadata": {},
   "outputs": [],
   "source": []
  },
  {
   "cell_type": "code",
   "execution_count": 52,
   "metadata": {},
   "outputs": [
    {
     "data": {
      "text/plain": [
       "(array([ 704.,  908., 1049., 1163., 1239., 1214., 1181., 1014.,  846.,\n",
       "         682.]),\n",
       " array([0.25009712, 0.32507066, 0.4000442 , 0.47501774, 0.54999128,\n",
       "        0.62496482, 0.69993836, 0.7749119 , 0.84988544, 0.92485898,\n",
       "        0.99983252]),\n",
       " <a list of 10 Patch objects>)"
      ]
     },
     "execution_count": 52,
     "metadata": {},
     "output_type": "execute_result"
    },
    {
     "data": {
      "image/png": "[encoded data removed]",
      "text/plain": [
       "<Figure size 432x288 with 1 Axes>"
      ]
     },
     "metadata": {
      "needs_background": "light"
     },
     "output_type": "display_data"
    }
   ],
   "source": [
    "vals = truncnorm((min_h-mean_h)/sigma, (max_h-mean_h)/sigma, loc=mean_h, scale=sigma).rvs(10000)\n",
    "plt.hist(vals)"
   ]
  },
  {
   "cell_type": "code",
   "execution_count": null,
   "metadata": {},
   "outputs": [],
   "source": []
  },
  {
   "cell_type": "code",
   "execution_count": 17,
   "metadata": {},
   "outputs": [
    {
     "data": {
      "text/plain": [
       "\u001b[0;31mSignature:\u001b[0m       \u001b[0mtruncnorm\u001b[0m\u001b[0;34m(\u001b[0m\u001b[0;34m*\u001b[0m\u001b[0margs\u001b[0m\u001b[0;34m,\u001b[0m \u001b[0;34m**\u001b[0m\u001b[0mkwds\u001b[0m\u001b[0;34m)\u001b[0m\u001b[0;34m\u001b[0m\u001b[0;34m\u001b[0m\u001b[0m\n",
       "\u001b[0;31mType:\u001b[0m            truncnorm_gen\n",
       "\u001b[0;31mString form:\u001b[0m     <scipy.stats._continuous_distns.truncnorm_gen object at 0x7f54ef979320>\n",
       "\u001b[0;31mFile:\u001b[0m            ~/anaconda3/lib/python3.7/site-packages/scipy/stats/_continuous_distns.py\n",
       "\u001b[0;31mDocstring:\u001b[0m      \n",
       "A truncated normal continuous random variable.\n",
       "\n",
       "As an instance of the `rv_continuous` class, `truncnorm` object inherits from it\n",
       "a collection of generic methods (see below for the full list),\n",
       "and completes them with details specific for this particular distribution.\n",
       "\n",
       "Methods\n",
       "-------\n",
       "rvs(a, b, loc=0, scale=1, size=1, random_state=None)\n",
       "    Random variates.\n",
       "pdf(x, a, b, loc=0, scale=1)\n",
       "    Probability density function.\n",
       "logpdf(x, a, b, loc=0, scale=1)\n",
       "    Log of the probability density function.\n",
       "cdf(x, a, b, loc=0, scale=1)\n",
       "    Cumulative distribution function.\n",
       "logcdf(x, a, b, loc=0, scale=1)\n",
       "    Log of the cumulative distribution function.\n",
       "sf(x, a, b, loc=0, scale=1)\n",
       "    Survival function  (also defined as ``1 - cdf``, but `sf` is sometimes more accurate).\n",
       "logsf(x, a, b, loc=0, scale=1)\n",
       "    Log of the survival function.\n",
       "ppf(q, a, b, loc=0, scale=1)\n",
       "    Percent point function (inverse of ``cdf`` --- percentiles).\n",
       "isf(q, a, b, loc=0, scale=1)\n",
       "    Inverse survival function (inverse of ``sf``).\n",
       "moment(n, a, b, loc=0, scale=1)\n",
       "    Non-central moment of order n\n",
       "stats(a, b, loc=0, scale=1, moments='mv')\n",
       "    Mean('m'), variance('v'), skew('s'), and/or kurtosis('k').\n",
       "entropy(a, b, loc=0, scale=1)\n",
       "    (Differential) entropy of the RV.\n",
       "fit(data, a, b, loc=0, scale=1)\n",
       "    Parameter estimates for generic data.\n",
       "expect(func, args=(a, b), loc=0, scale=1, lb=None, ub=None, conditional=False, **kwds)\n",
       "    Expected value of a function (of one argument) with respect to the distribution.\n",
       "median(a, b, loc=0, scale=1)\n",
       "    Median of the distribution.\n",
       "mean(a, b, loc=0, scale=1)\n",
       "    Mean of the distribution.\n",
       "var(a, b, loc=0, scale=1)\n",
       "    Variance of the distribution.\n",
       "std(a, b, loc=0, scale=1)\n",
       "    Standard deviation of the distribution.\n",
       "interval(alpha, a, b, loc=0, scale=1)\n",
       "    Endpoints of the range that contains alpha percent of the distribution\n",
       "\n",
       "Notes\n",
       "-----\n",
       "The standard form of this distribution is a standard normal truncated to\n",
       "the range [a, b] --- notice that a and b are defined over the domain of the\n",
       "standard normal.  To convert clip values for a specific mean and standard\n",
       "deviation, use::\n",
       "\n",
       "    a, b = (myclip_a - my_mean) / my_std, (myclip_b - my_mean) / my_std\n",
       "\n",
       "`truncnorm` takes :math:`a` and :math:`b` as shape parameters.\n",
       "\n",
       "The probability density above is defined in the \"standardized\" form. To shift\n",
       "and/or scale the distribution use the ``loc`` and ``scale`` parameters.\n",
       "Specifically, ``truncnorm.pdf(x, a, b, loc, scale)`` is identically\n",
       "equivalent to ``truncnorm.pdf(y, a, b) / scale`` with\n",
       "``y = (x - loc) / scale``.\n",
       "\n",
       "Examples\n",
       "--------\n",
       ">>> from scipy.stats import truncnorm\n",
       ">>> import matplotlib.pyplot as plt\n",
       ">>> fig, ax = plt.subplots(1, 1)\n",
       "\n",
       "Calculate a few first moments:\n",
       "\n",
       ">>> a, b = 0.1, 2\n",
       ">>> mean, var, skew, kurt = truncnorm.stats(a, b, moments='mvsk')\n",
       "\n",
       "Display the probability density function (``pdf``):\n",
       "\n",
       ">>> x = np.linspace(truncnorm.ppf(0.01, a, b),\n",
       "...                 truncnorm.ppf(0.99, a, b), 100)\n",
       ">>> ax.plot(x, truncnorm.pdf(x, a, b),\n",
       "...        'r-', lw=5, alpha=0.6, label='truncnorm pdf')\n",
       "\n",
       "Alternatively, the distribution object can be called (as a function)\n",
       "to fix the shape, location and scale parameters. This returns a \"frozen\"\n",
       "RV object holding the given parameters fixed.\n",
       "\n",
       "Freeze the distribution and display the frozen ``pdf``:\n",
       "\n",
       ">>> rv = truncnorm(a, b)\n",
       ">>> ax.plot(x, rv.pdf(x), 'k-', lw=2, label='frozen pdf')\n",
       "\n",
       "Check accuracy of ``cdf`` and ``ppf``:\n",
       "\n",
       ">>> vals = truncnorm.ppf([0.001, 0.5, 0.999], a, b)\n",
       ">>> np.allclose([0.001, 0.5, 0.999], truncnorm.cdf(vals, a, b))\n",
       "True\n",
       "\n",
       "Generate random numbers:\n",
       "\n",
       ">>> r = truncnorm.rvs(a, b, size=1000)\n",
       "\n",
       "And compare the histogram:\n",
       "\n",
       ">>> ax.hist(r, density=True, histtype='stepfilled', alpha=0.2)\n",
       ">>> ax.legend(loc='best', frameon=False)\n",
       ">>> plt.show()\n",
       "\u001b[0;31mClass docstring:\u001b[0m\n",
       "A truncated normal continuous random variable.\n",
       "\n",
       "%(before_notes)s\n",
       "\n",
       "Notes\n",
       "-----\n",
       "The standard form of this distribution is a standard normal truncated to\n",
       "the range [a, b] --- notice that a and b are defined over the domain of the\n",
       "standard normal.  To convert clip values for a specific mean and standard\n",
       "deviation, use::\n",
       "\n",
       "    a, b = (myclip_a - my_mean) / my_std, (myclip_b - my_mean) / my_std\n",
       "\n",
       "`truncnorm` takes :math:`a` and :math:`b` as shape parameters.\n",
       "\n",
       "%(after_notes)s\n",
       "\n",
       "%(example)s\n",
       "\u001b[0;31mCall docstring:\u001b[0m \n",
       "Freeze the distribution for the given arguments.\n",
       "\n",
       "Parameters\n",
       "----------\n",
       "arg1, arg2, arg3,... : array_like\n",
       "    The shape parameter(s) for the distribution.  Should include all\n",
       "    the non-optional arguments, may include ``loc`` and ``scale``.\n",
       "\n",
       "Returns\n",
       "-------\n",
       "rv_frozen : rv_frozen instance\n",
       "    The frozen distribution.\n"
      ]
     },
     "metadata": {},
     "output_type": "display_data"
    }
   ],
   "source": [
    "truncnorm?"
   ]
  },
  {
   "cell_type": "code",
   "execution_count": null,
   "metadata": {},
   "outputs": [],
   "source": []
  },
  {
   "cell_type": "code",
   "execution_count": null,
   "metadata": {},
   "outputs": [],
   "source": []
  },
  {
   "cell_type": "code",
   "execution_count": null,
   "metadata": {},
   "outputs": [],
   "source": []
  },
  {
   "cell_type": "code",
   "execution_count": null,
   "metadata": {},
   "outputs": [],
   "source": []
  },
  {
   "cell_type": "code",
   "execution_count": null,
   "metadata": {},
   "outputs": [],
   "source": []
  },
  {
   "cell_type": "code",
   "execution_count": null,
   "metadata": {},
   "outputs": [],
   "source": []
  },
  {
   "cell_type": "code",
   "execution_count": null,
   "metadata": {},
   "outputs": [],
   "source": []
  }
 ],
 "metadata": {
  "kernelspec": {
   "display_name": "Python 3",
   "language": "python",
   "name": "python3"
  },
  "language_info": {
   "codemirror_mode": {
    "name": "ipython",
    "version": 3
   },
   "file_extension": ".py",
   "mimetype": "text/x-python",
   "name": "python",
   "nbconvert_exporter": "python",
   "pygments_lexer": "ipython3",
   "version": "3.7.1"
  }
 },
 "nbformat": 4,
 "nbformat_minor": 2
}
